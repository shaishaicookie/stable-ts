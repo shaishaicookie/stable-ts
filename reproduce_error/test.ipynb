{
 "cells": [
  {
   "cell_type": "code",
   "execution_count": 2,
   "metadata": {},
   "outputs": [
    {
     "name": "stdout",
     "output_type": "stream",
     "text": [
      "ffmpeg -n -f lavfi -i color=size=720x90:rate=25:color=black -f lavfi -i color=size=720x3:rate=25:color=white -i \"audio.mp3\" -filter_complex \"[0]drawtext=text='FileNameTooLong':fontcolor=white:fontsize=14:x=10:y=10[a0],[a0]subtitles='audio.srt':force_style='Fontsize=70'[b0],[0]drawtext=text='FileNameTooLong2':fontcolor=white:fontsize=14:x=10:y=10[a1],[a1]subtitles='audio.srt':force_style='Fontsize=70'[b1];[b0][1][b1]vstack=inputs=3\" -shortest \"FileNameTooLong.mp4\"\n",
      "**** An error occurred ****\n",
      "**** When input files are under same dir as this script ****\n",
      "[Errno 63] File name too long: 'ffmpeg -n -f lavfi -i color=size=720x90:rate=25:color=black -f lavfi -i color=size=720x3:rate=25:color=white -i \"audio.mp3\" -filter_complex \"[0]drawtext=text=\\'FileNameTooLong\\':fontcolor=white:fontsize=14:x=10:y=10[a0],[a0]subtitles=\\'audio.srt\\':force_style=\\'Fontsize=70\\'[b0],[0]drawtext=text=\\'FileNameTooLong2\\':fontcolor=white:fontsize=14:x=10:y=10[a1],[a1]subtitles=\\'audio.srt\\':force_style=\\'Fontsize=70\\'[b1];[b0][1][b1]vstack=inputs=3\" -shortest \"FileNameTooLong.mp4\"'\n",
      "\n",
      "\n",
      "\n",
      "ffmpeg -n -f lavfi -i color=size=720x90:rate=25:color=black -f lavfi -i color=size=720x3:rate=25:color=white -i \"audio/audio.mp3\" -filter_complex \"[0]drawtext=text='FileNotFoundError':fontcolor=white:fontsize=14:x=10:y=10[a0],[a0]subtitles='audio/audio.srt':force_style='Fontsize=70'[b0],[0]drawtext=text='FileNotFoundError2':fontcolor=white:fontsize=14:x=10:y=10[a1],[a1]subtitles='audio/audio.srt':force_style='Fontsize=70'[b1];[b0][1][b1]vstack=inputs=3\" -shortest \"FileNotFoundError.mp4\"\n",
      "**** An error occurred ****\n",
      "**** When input files are not under same dir as this script ****\n",
      "[Errno 2] No such file or directory: 'ffmpeg -n -f lavfi -i color=size=720x90:rate=25:color=black -f lavfi -i color=size=720x3:rate=25:color=white -i \"audio/audio.mp3\" -filter_complex \"[0]drawtext=text=\\'FileNotFoundError\\':fontcolor=white:fontsize=14:x=10:y=10[a0],[a0]subtitles=\\'audio/audio.srt\\':force_style=\\'Fontsize=70\\'[b0],[0]drawtext=text=\\'FileNotFoundError2\\':fontcolor=white:fontsize=14:x=10:y=10[a1],[a1]subtitles=\\'audio/audio.srt\\':force_style=\\'Fontsize=70\\'[b1];[b0][1][b1]vstack=inputs=3\" -shortest \"FileNotFoundError.mp4\"'\n"
     ]
    }
   ],
   "source": [
    "import stable_whisper\n",
    "\n",
    "# [Errno 63] File name too long\n",
    "# input files are under same dir as this script\n",
    "try:\n",
    "    audio_path = \"audio.mp3\"\n",
    "    srt_path = \"audio.srt\"\n",
    "\n",
    "    stable_whisper.encode_video_comparison(\n",
    "        audio_path,\n",
    "        [srt_path, srt_path],\n",
    "        output_videopath= \"FileNameTooLong.mp4\",\n",
    "        labels=[\"FileNameTooLong\", \"FileNameTooLong2\"],\n",
    "    )\n",
    "except Exception as e:\n",
    "    print(\"**** An error occurred ****\")\n",
    "    print(\"**** When input files are under same dir as this script ****\")\n",
    "    print(e)\n",
    "\n",
    "print(\"\\n\\n\")\n",
    "\n",
    "# FileNotFoundError\n",
    "# input files are not under same dir as this script\n",
    "try:\n",
    "    audio_path = \"audio/audio.mp3\"\n",
    "    srt_path = \"audio/audio.srt\"\n",
    "\n",
    "    stable_whisper.encode_video_comparison(\n",
    "        audio_path,\n",
    "        [srt_path, srt_path],\n",
    "        output_videopath= \"FileNotFoundError.mp4\",\n",
    "        labels=[\"FileNotFoundError\", \"FileNotFoundError2\"],\n",
    "    )\n",
    "except Exception as e:\n",
    "    print(\"**** An error occurred ****\")\n",
    "    print(\"**** When input files are not under same dir as this script ****\")\n",
    "    print(e)\n"
   ]
  }
 ],
 "metadata": {
  "kernelspec": {
   "display_name": "fix-stable-whisper",
   "language": "python",
   "name": "python3"
  },
  "language_info": {
   "codemirror_mode": {
    "name": "ipython",
    "version": 3
   },
   "file_extension": ".py",
   "mimetype": "text/x-python",
   "name": "python",
   "nbconvert_exporter": "python",
   "pygments_lexer": "ipython3",
   "version": "3.10.14"
  }
 },
 "nbformat": 4,
 "nbformat_minor": 2
}
